{
 "cells": [
  {
   "cell_type": "markdown",
   "metadata": {},
   "source": [
    "# Proyecto de Pruebas A/B: Evaluación del Sistema de Recomendaciones\n"
   ]
  },
  {
   "cell_type": "markdown",
   "metadata": {},
   "source": [
    "## **Descripción General**\n",
    "\n",
    "Este proyecto evalúa los resultados de una prueba A/B realizada por una tienda en línea internacional. La prueba busca determinar si un sistema mejorado de recomendaciones incrementa la conversión de los usuarios en tres etapas clave del embudo:\n",
    "\n",
    "1. **Vistas de la página del producto (product_page).**\n",
    "2. **Agregar productos al carrito (product_cart).**\n",
    "3. **Compras (purchase).**\n",
    "\n",
    "### **Especificaciones Técnicas**\n",
    "- **Nombre de la prueba:** recommender_system_test\n",
    "- **Grupos:** \n",
    "  - A: Control\n",
    "  - B: Nuevo sistema de recomendaciones\n",
    "- **Período de prueba:** \n",
    "  - **Inicio:** 2020-12-07\n",
    "  - **Fin de inscripción de nuevos usuarios:** 2020-12-21\n",
    "  - **Finalización:** 2021-01-01\n",
    "- **Audiencia:** 15% de los nuevos usuarios de la región UE\n",
    "- **Objetivo:** Incrementar al menos un 10% la conversión en cada etapa del embudo.\n",
    "- **Número esperado de participantes:** 6,000\n",
    "\n",
    "### **Estructura de Datos**\n",
    "Los datos disponibles se dividen en cuatro archivos:\n",
    "1. **Eventos de marketing:** Información de campañas publicitarias.\n",
    "2. **Usuarios nuevos:** Detalles de los usuarios que se registraron durante la prueba.\n",
    "3. **Eventos de usuarios:** Actividades registradas de los usuarios nuevos.\n",
    "4. **Participantes de la prueba:** Asignación de usuarios a grupos A/B.\n"
   ]
  },
  {
   "cell_type": "markdown",
   "metadata": {},
   "source": [
    "## **Carga y Preprocesamiento de Datos**\n",
    "\n",
    "### Pasos:\n",
    "1. Cargar los datasets.\n",
    "2. Convertir tipos de datos si es necesario.\n",
    "3. Verificar valores nulos o duplicados y tratarlos.\n"
   ]
  },
  {
   "cell_type": "code",
   "execution_count": 1,
   "metadata": {},
   "outputs": [],
   "source": [
    "import pandas as pd\n",
    "import numpy as np\n",
    "import matplotlib.pyplot as plt\n",
    "import seaborn as sns\n"
   ]
  },
  {
   "cell_type": "code",
   "execution_count": 2,
   "metadata": {},
   "outputs": [],
   "source": [
    "marketing_events = pd.read_csv('/datasets/ab_project_marketing_events_us.csv')\n",
    "new_users = pd.read_csv('/datasets/final_ab_new_users_upd_us.csv')\n",
    "events = pd.read_csv('/datasets/final_ab_events_upd_us.csv')\n",
    "participants = pd.read_csv('/datasets/final_ab_participants_upd_us.csv')\n"
   ]
  },
  {
   "cell_type": "code",
   "execution_count": 3,
   "metadata": {},
   "outputs": [
    {
     "name": "stdout",
     "output_type": "stream",
     "text": [
      "Marketing Events:\n",
      "                           name                   regions    start_dt  \\\n",
      "0      Christmas&New Year Promo             EU, N.America  2020-12-25   \n",
      "1  St. Valentine's Day Giveaway  EU, CIS, APAC, N.America  2020-02-14   \n",
      "2        St. Patric's Day Promo             EU, N.America  2020-03-17   \n",
      "3                  Easter Promo  EU, CIS, APAC, N.America  2020-04-12   \n",
      "4             4th of July Promo                 N.America  2020-07-04   \n",
      "\n",
      "    finish_dt  \n",
      "0  2021-01-03  \n",
      "1  2020-02-16  \n",
      "2  2020-03-19  \n",
      "3  2020-04-19  \n",
      "4  2020-07-11   \n",
      "\n",
      "New Users:\n",
      "            user_id  first_date     region   device\n",
      "0  D72A72121175D8BE  2020-12-07         EU       PC\n",
      "1  F1C668619DFE6E65  2020-12-07  N.America  Android\n",
      "2  2E1BF1D4C37EA01F  2020-12-07         EU       PC\n",
      "3  50734A22C0C63768  2020-12-07         EU   iPhone\n",
      "4  E1BDDCE0DAFA2679  2020-12-07  N.America   iPhone \n",
      "\n",
      "Events:\n",
      "            user_id             event_dt event_name  details\n",
      "0  E1BDDCE0DAFA2679  2020-12-07 20:22:03   purchase    99.99\n",
      "1  7B6452F081F49504  2020-12-07 09:22:53   purchase     9.99\n",
      "2  9CD9F34546DF254C  2020-12-07 12:59:29   purchase     4.99\n",
      "3  96F27A054B191457  2020-12-07 04:02:40   purchase     4.99\n",
      "4  1FD7660FDF94CA1F  2020-12-07 10:15:09   purchase     4.99 \n",
      "\n",
      "Participants:\n",
      "            user_id group                  ab_test\n",
      "0  D1ABA3E2887B6A73     A  recommender_system_test\n",
      "1  A7A3664BD6242119     A  recommender_system_test\n",
      "2  DABC14FDDFADD29E     A  recommender_system_test\n",
      "3  04988C5DF189632E     A  recommender_system_test\n",
      "4  4FF2998A348C484F     A  recommender_system_test\n"
     ]
    }
   ],
   "source": [
    "print(\"Marketing Events:\")\n",
    "print(marketing_events.head(), '\\n')\n",
    "print(\"New Users:\")\n",
    "print(new_users.head(), '\\n')\n",
    "print(\"Events:\")\n",
    "print(events.head(), '\\n')\n",
    "print(\"Participants:\")\n",
    "print(participants.head())"
   ]
  },
  {
   "cell_type": "markdown",
   "metadata": {},
   "source": [
    "## Comentarios sobre la Carga y Preprocesamiento de Datos\n",
    "\n",
    "- **Eventos de Marketing:** Los eventos están bien definidos con nombres, regiones y fechas de inicio y finalización. Es importante asegurarse de que las fechas y regiones sean consistentes para el análisis posterior.\n",
    "- **Nuevos Usuarios:** La tabla de nuevos usuarios incluye identificadores, fechas de primer uso, regiones y dispositivos. Es crucial verificar si hay usuarios duplicados y asegurar que las fechas estén en el formato adecuado.\n",
    "- **Eventos de Usuarios:** Los eventos de usuarios están correctamente registrados con información relevante como el identificador del usuario, fecha del evento, tipo de evento y detalles del evento. Se debe validar que no haya registros erróneos o duplicados, y que los eventos sean coherentes con el propósito del análisis.\n",
    "- **Participantes en la Prueba A/B:** La tabla de participantes muestra correctamente la asignación de grupos (A/B) para el sistema de recomendaciones. Es necesario verificar que los grupos estén distribuidos equitativamente y que los usuarios estén correctamente asignados a cada grupo.\n",
    "\n"
   ]
  },
  {
   "cell_type": "markdown",
   "metadata": {},
   "source": [
    "## **Análisis Exploratorio de Datos (EDA)**\n",
    "\n",
    "### Objetivos:\n",
    "1. Analizar la conversión en cada etapa del embudo.\n",
    "2. Evaluar la distribución de eventos por usuario y por día.\n",
    "3. Detectar posibles anomalías en los datos antes de iniciar la prueba A/B.\n"
   ]
  },
  {
   "cell_type": "code",
   "execution_count": 4,
   "metadata": {},
   "outputs": [],
   "source": [
    "embudo_etapas = ['product_page', 'product_cart', 'purchase']\n",
    "conversion_por_evento = events[events['event_name'].isin(embudo_etapas)].groupby('event_name')['user_id'].nunique()"
   ]
  },
  {
   "cell_type": "code",
   "execution_count": 5,
   "metadata": {},
   "outputs": [
    {
     "name": "stdout",
     "output_type": "stream",
     "text": [
      "Conversión por evento (en porcentaje):\n",
      "event_name\n",
      "product_cart    141.399032\n",
      "product_page    285.445080\n",
      "purchase        143.481449\n",
      "Name: user_id, dtype: float64\n"
     ]
    }
   ],
   "source": [
    "total_usuarios = participants['user_id'].nunique()\n",
    "conversion_tasa = (conversion_por_evento / total_usuarios) * 100\n",
    "print(\"Conversión por evento (en porcentaje):\")\n",
    "print(conversion_tasa)"
   ]
  },
  {
   "cell_type": "code",
   "execution_count": 6,
   "metadata": {},
   "outputs": [],
   "source": [
    "sns.set(style=\"whitegrid\")\n",
    "plt.rcParams[\"figure.figsize\"] = (10, 6)"
   ]
  },
  {
   "cell_type": "code",
   "execution_count": 7,
   "metadata": {
    "scrolled": true
   },
   "outputs": [
    {
     "data": {
      "image/png": "[encoded data removed]",
      "text/plain": [
       "<Figure size 1000x600 with 1 Axes>"
      ]
     },
     "metadata": {},
     "output_type": "display_data"
    }
   ],
   "source": [
    "conversion_tasa.plot(kind='bar', color='skyblue', title='Conversión por Evento')\n",
    "plt.ylabel('Porcentaje de Usuarios')\n",
    "plt.show()"
   ]
  },
  {
   "cell_type": "code",
   "execution_count": 8,
   "metadata": {},
   "outputs": [
    {
     "name": "stdout",
     "output_type": "stream",
     "text": [
      "Usuarios en ambos grupos: 441\n"
     ]
    }
   ],
   "source": [
    "usuarios_grupo_duplicados = participants.groupby('user_id')['group'].nunique()\n",
    "print(\"Usuarios en ambos grupos:\", usuarios_grupo_duplicados[usuarios_grupo_duplicados > 1].count())"
   ]
  },
  {
   "cell_type": "markdown",
   "metadata": {},
   "source": [
    "## **Evaluación de Resultados de la Prueba A/B**\n",
    "\n",
    "### Pasos:\n",
    "1. Verificar si las conversiones cumplen con el objetivo del 10%.\n",
    "2. Aplicar pruebas estadísticas (prueba z para proporciones).\n",
    "3. Evaluar si las diferencias son estadísticamente significativas.\n"
   ]
  },
  {
   "cell_type": "code",
   "execution_count": 9,
   "metadata": {},
   "outputs": [
    {
     "name": "stdout",
     "output_type": "stream",
     "text": [
      "Conversión por evento y grupo:\n",
      "event_name  product_cart  product_page  purchase\n",
      "group                                           \n",
      "A                   2483          5208      2682\n",
      "B                   2037          3986      2008\n"
     ]
    }
   ],
   "source": [
    "events_converted = pd.merge(events, participants[['user_id', 'group']], on='user_id', how='left')\n",
    "\n",
    "events_filtrados = events_converted[events_converted['event_name'].isin(embudo_etapas)]\n",
    "\n",
    "conversion_por_evento_grupo = events_filtrados.groupby(['group', 'event_name'])['user_id'].nunique().unstack(fill_value=0)\n",
    "\n",
    "total_usuarios_grupo = participants.groupby('group')['user_id'].nunique()\n",
    "\n",
    "conversion_tasa_grupo = (conversion_por_evento_grupo / total_usuarios_grupo.values.reshape(-1, 1)) * 100\n",
    "\n",
    "print(\"Conversión por evento y grupo:\")\n",
    "print(conversion_por_evento_grupo)"
   ]
  },
  {
   "cell_type": "code",
   "execution_count": 10,
   "metadata": {},
   "outputs": [
    {
     "name": "stdout",
     "output_type": "stream",
     "text": [
      "Tasa de conversión por evento y grupo (en porcentaje):\n",
      "event_name  product_cart  product_page   purchase\n",
      "group                                            \n",
      "A              31.534163     66.141732  34.061468\n",
      "B              32.828364     64.238517  32.360999\n"
     ]
    }
   ],
   "source": [
    "print(\"Tasa de conversión por evento y grupo (en porcentaje):\")\n",
    "print(conversion_tasa_grupo)\n",
    "\n",
    "\n"
   ]
  },
  {
   "cell_type": "code",
   "execution_count": 11,
   "metadata": {},
   "outputs": [
    {
     "data": {
      "image/png": "[encoded data removed]",
      "text/plain": [
       "<Figure size 1000x600 with 1 Axes>"
      ]
     },
     "metadata": {},
     "output_type": "display_data"
    }
   ],
   "source": [
    "# Visualización de la tasa de conversión\n",
    "sns.set(style=\"whitegrid\")\n",
    "plt.rcParams[\"figure.figsize\"] = (10, 6)\n",
    "conversion_tasa_grupo.plot(kind='bar', color=['skyblue', 'orange'], title='Tasa de Conversión por Evento y Grupo')\n",
    "plt.ylabel('Tasa de Conversión (%)')\n",
    "plt.show()\n"
   ]
  },
  {
   "cell_type": "code",
   "execution_count": 12,
   "metadata": {},
   "outputs": [],
   "source": [
    "objetivo_conversion = 10\n",
    "\n",
    "cumple_objetivo_a = conversion_tasa_grupo.loc['A'] >= objetivo_conversion\n",
    "cumple_objetivo_b = conversion_tasa_grupo.loc['B'] >= objetivo_conversion\n"
   ]
  },
  {
   "cell_type": "code",
   "execution_count": 13,
   "metadata": {},
   "outputs": [
    {
     "name": "stdout",
     "output_type": "stream",
     "text": [
      "Grupo A cumple con el objetivo de conversión del 10%:\n",
      "event_name\n",
      "product_cart    True\n",
      "product_page    True\n",
      "purchase        True\n",
      "Name: A, dtype: bool\n"
     ]
    }
   ],
   "source": [
    "print(\"Grupo A cumple con el objetivo de conversión del 10%:\")\n",
    "print(cumple_objetivo_a)"
   ]
  },
  {
   "cell_type": "code",
   "execution_count": 14,
   "metadata": {},
   "outputs": [
    {
     "name": "stdout",
     "output_type": "stream",
     "text": [
      "Grupo B cumple con el objetivo de conversión del 10%:\n",
      "event_name\n",
      "product_cart    True\n",
      "product_page    True\n",
      "purchase        True\n",
      "Name: B, dtype: bool\n"
     ]
    }
   ],
   "source": [
    "print(\"Grupo B cumple con el objetivo de conversión del 10%:\")\n",
    "print(cumple_objetivo_b)"
   ]
  },
  {
   "cell_type": "code",
   "execution_count": 15,
   "metadata": {},
   "outputs": [],
   "source": [
    "from statsmodels.stats.proportion import proportions_ztest"
   ]
  },
  {
   "cell_type": "code",
   "execution_count": 16,
   "metadata": {},
   "outputs": [],
   "source": [
    "eventos = ['product_cart', 'product_page', 'purchase']"
   ]
  },
  {
   "cell_type": "code",
   "execution_count": 17,
   "metadata": {},
   "outputs": [],
   "source": [
    "z_stats = []\n",
    "p_values = []"
   ]
  },
  {
   "cell_type": "code",
   "execution_count": 18,
   "metadata": {},
   "outputs": [],
   "source": [
    "\n",
    "for evento in eventos:\n",
    "    conversiones_a = conversion_por_evento_grupo.loc['A', evento]\n",
    "    conversiones_b = conversion_por_evento_grupo.loc['B', evento]\n",
    "    \n",
    "    usuarios_totales_a = total_usuarios_grupo['A']\n",
    "    usuarios_totales_b = total_usuarios_grupo['B']\n",
    "    \n",
    "    z_stat, p_value = proportions_ztest([conversiones_a, conversiones_b], [usuarios_totales_a, usuarios_totales_b])\n",
    "    \n",
    "    z_stats.append(z_stat)\n",
    "    p_values.append(p_value)\n",
    "\n",
    "resultado_prueba = pd.DataFrame({\n",
    "    'Evento': eventos,\n",
    "    'Estadístico Z': z_stats,\n",
    "    'Valor P': p_values\n",
    "})\n"
   ]
  },
  {
   "cell_type": "code",
   "execution_count": 20,
   "metadata": {},
   "outputs": [
    {
     "name": "stdout",
     "output_type": "stream",
     "text": [
      "Resultados de la prueba Z para cada evento:\n",
      "         Evento  Estadístico Z   Valor P\n",
      "0  product_cart      -1.632980  0.102473\n",
      "1  product_page       2.355363  0.018505\n",
      "2      purchase       2.125334  0.033559\n"
     ]
    }
   ],
   "source": [
    "print(\"Resultados de la prueba Z para cada evento:\")\n",
    "print(resultado_prueba)"
   ]
  },
  {
   "cell_type": "code",
   "execution_count": 22,
   "metadata": {},
   "outputs": [],
   "source": [
    "umbral_significancia = 0.05"
   ]
  },
  {
   "cell_type": "code",
   "execution_count": 24,
   "metadata": {},
   "outputs": [],
   "source": [
    "resultados_significativos = []\n",
    "for p_value in p_values:\n",
    "    if p_value < umbral_significancia:\n",
    "        resultados_significativos.append('Significativo')\n",
    "    else:\n",
    "        resultados_significativos.append('No significativo')\n",
    "\n",
    "resultado_prueba['Diferencia Significativa'] = resultados_significativos"
   ]
  },
  {
   "cell_type": "code",
   "execution_count": 25,
   "metadata": {},
   "outputs": [
    {
     "name": "stdout",
     "output_type": "stream",
     "text": [
      "Evaluación de diferencias significativas:\n",
      "         Evento  Estadístico Z   Valor P Diferencia Significativa\n",
      "0  product_cart      -1.632980  0.102473         No significativo\n",
      "1  product_page       2.355363  0.018505            Significativo\n",
      "2      purchase       2.125334  0.033559            Significativo\n"
     ]
    }
   ],
   "source": [
    "print(\"Evaluación de diferencias significativas:\")\n",
    "print(resultado_prueba)\n"
   ]
  },
  {
   "cell_type": "markdown",
   "metadata": {},
   "source": [
    "# Conclusiones del Análisis de la Prueba A/B\n",
    "\n",
    "## 1. Tasa de Conversión por Evento y Grupo\n",
    "- **Grupo A:**\n",
    "  - **Product Cart:** 31.53%\n",
    "  - **Product Page:** 66.14%\n",
    "  - **Purchase:** 34.06%\n",
    "\n",
    "- **Grupo B:**\n",
    "  - **Product Cart:** 32.83%\n",
    "  - **Product Page:** 64.24%\n",
    "  - **Purchase:** 32.36%\n",
    "\n",
    "  A pesar de que las tasas de conversión en el **Grupo B** son ligeramente más bajas que en el **Grupo A**, ambas variantes presentan tasas de conversión superiores al 10% en cada etapa del embudo.\n",
    "\n",
    "## 2. Cumplimiento del Objetivo del 10% de Conversión\n",
    "Tanto el **Grupo A** como el **Grupo B** cumplen con el objetivo de conversión del 10% en cada etapa del embudo:\n",
    "- **Product Cart:** Sí\n",
    "- **Product Page:** Sí\n",
    "- **Purchase:** Sí\n",
    "\n",
    "Esto indica que ambas variantes son efectivas según el umbral de conversión establecido.\n",
    "\n",
    "## 3. Resultados de la Prueba Z y Evaluación de la Significancia\n",
    "| Evento       | Estadístico Z  | Valor P   | Diferencia Significativa   |\n",
    "|--------------|----------------|-----------|----------------------------|\n",
    "| Product Cart | -1.63          | 0.102     | No significativo           |\n",
    "| Product Page | 2.36           | 0.0185    | Significativo              |\n",
    "| Purchase     | 2.13           | 0.0336    | Significativo              |\n",
    "\n",
    "### Interpretación:\n",
    "- **Product Cart:** La diferencia entre los grupos no es estadísticamente significativa (Valor P = 0.102).\n",
    "- **Product Page:** La diferencia es estadísticamente significativa (Valor P = 0.0185), con el **Grupo A** mostrando un mejor desempeño.\n",
    "- **Purchase:** La diferencia es también estadísticamente significativa (Valor P = 0.0336), con el **Grupo A** logrando mejores resultados.\n",
    "\n",
    "## 4. Conclusiones y Recomendaciones\n",
    "\n",
    "### Impacto del Sistema de Recomendaciones Mejorado:\n",
    "El **Grupo A** muestra una mayor tasa de conversión en las etapas de **product_page** y **purchase**, lo que sugiere que el sistema de recomendaciones está funcionando mejor en estas fases del embudo.\n",
    "\n",
    "### Optimización y Mejoras:\n",
    "- A pesar de que ambos grupos cumplen con el objetivo del 10%, el **Grupo A** muestra mejores resultados, especialmente en la conversión en las etapas de la página de producto y compra.\n",
    "- Es recomendable investigar más a fondo el sistema de recomendaciones en el **Grupo B** para entender por qué las diferencias son menores en comparación con el **Grupo A**.\n",
    "\n",
    "## 5. Próximos Pasos\n",
    "\n",
    "- **Análisis Profundo de las Variables del Sistema de Recomendaciones:** Realizar un análisis más detallado de cómo las recomendaciones afectan la decisión de compra en cada grupo.\n",
    "- **Refinamiento del Sistema de Recomendaciones:** Considerar mejoras en la personalización o en los algoritmos de recomendación para optimizar aún más las tasas de conversión, especialmente en el **Grupo B**.\n"
   ]
  },
  {
   "cell_type": "code",
   "execution_count": null,
   "metadata": {},
   "outputs": [],
   "source": []
  }
 ],
 "metadata": {
  "ExecuteTimeLog": [
   {
    "duration": 2603,
    "start_time": "2024-12-04T03:55:32.570Z"
   },
   {
    "duration": 413,
    "start_time": "2024-12-04T03:55:55.625Z"
   },
   {
    "duration": 12,
    "start_time": "2024-12-04T03:56:04.084Z"
   },
   {
    "duration": 66,
    "start_time": "2024-12-04T03:57:03.916Z"
   },
   {
    "duration": 13,
    "start_time": "2024-12-04T03:57:18.047Z"
   },
   {
    "duration": 3,
    "start_time": "2024-12-04T03:57:27.373Z"
   },
   {
    "duration": 132,
    "start_time": "2024-12-04T03:57:41.622Z"
   },
   {
    "duration": 15,
    "start_time": "2024-12-04T03:57:55.312Z"
   },
   {
    "duration": 222,
    "start_time": "2024-12-04T03:58:26.535Z"
   },
   {
    "duration": 5,
    "start_time": "2024-12-04T03:58:40.518Z"
   },
   {
    "duration": 250,
    "start_time": "2024-12-04T03:58:51.492Z"
   },
   {
    "duration": 5,
    "start_time": "2024-12-04T03:59:02.600Z"
   },
   {
    "duration": 1063,
    "start_time": "2024-12-04T03:59:25.934Z"
   },
   {
    "duration": 0,
    "start_time": "2024-12-04T03:59:26.999Z"
   },
   {
    "duration": 0,
    "start_time": "2024-12-04T03:59:27.000Z"
   },
   {
    "duration": 0,
    "start_time": "2024-12-04T03:59:27.001Z"
   },
   {
    "duration": 0,
    "start_time": "2024-12-04T03:59:27.002Z"
   },
   {
    "duration": 0,
    "start_time": "2024-12-04T03:59:27.003Z"
   },
   {
    "duration": 0,
    "start_time": "2024-12-04T03:59:27.004Z"
   },
   {
    "duration": 0,
    "start_time": "2024-12-04T03:59:27.005Z"
   },
   {
    "duration": 0,
    "start_time": "2024-12-04T03:59:27.006Z"
   },
   {
    "duration": 0,
    "start_time": "2024-12-04T03:59:27.007Z"
   },
   {
    "duration": 0,
    "start_time": "2024-12-04T03:59:27.008Z"
   },
   {
    "duration": 3,
    "start_time": "2024-12-04T04:02:52.111Z"
   },
   {
    "duration": 343,
    "start_time": "2024-12-04T04:02:53.975Z"
   },
   {
    "duration": 11,
    "start_time": "2024-12-04T04:02:55.062Z"
   },
   {
    "duration": 67,
    "start_time": "2024-12-04T04:02:57.955Z"
   },
   {
    "duration": 13,
    "start_time": "2024-12-04T04:03:00.002Z"
   },
   {
    "duration": 3,
    "start_time": "2024-12-04T04:03:01.264Z"
   },
   {
    "duration": 135,
    "start_time": "2024-12-04T04:03:03.741Z"
   },
   {
    "duration": 15,
    "start_time": "2024-12-04T04:03:05.482Z"
   },
   {
    "duration": 6,
    "start_time": "2024-12-04T04:03:08.417Z"
   },
   {
    "duration": 271,
    "start_time": "2024-12-04T04:03:11.723Z"
   },
   {
    "duration": 3,
    "start_time": "2024-12-04T04:03:12.693Z"
   },
   {
    "duration": 15,
    "start_time": "2024-12-04T04:03:38.429Z"
   },
   {
    "duration": 6,
    "start_time": "2024-12-04T04:03:41.718Z"
   },
   {
    "duration": 256,
    "start_time": "2024-12-04T04:03:42.420Z"
   },
   {
    "duration": 4,
    "start_time": "2024-12-04T04:03:43.932Z"
   },
   {
    "duration": 5,
    "start_time": "2024-12-04T04:04:01.387Z"
   },
   {
    "duration": 5,
    "start_time": "2024-12-04T04:04:12.360Z"
   },
   {
    "duration": 19,
    "start_time": "2024-12-04T04:15:32.793Z"
   },
   {
    "duration": 392,
    "start_time": "2024-12-04T04:20:45.570Z"
   },
   {
    "duration": 342,
    "start_time": "2024-12-04T04:22:12.826Z"
   },
   {
    "duration": 359,
    "start_time": "2024-12-04T04:23:31.886Z"
   },
   {
    "duration": 323,
    "start_time": "2024-12-04T04:26:56.866Z"
   },
   {
    "duration": 228,
    "start_time": "2024-12-04T04:37:18.154Z"
   },
   {
    "duration": 4,
    "start_time": "2024-12-04T04:38:20.175Z"
   },
   {
    "duration": 15,
    "start_time": "2024-12-04T04:38:56.952Z"
   },
   {
    "duration": 72,
    "start_time": "2024-12-04T04:39:50.686Z"
   },
   {
    "duration": 67,
    "start_time": "2024-12-04T04:40:00.243Z"
   },
   {
    "duration": 101,
    "start_time": "2024-12-04T04:40:06.625Z"
   },
   {
    "duration": 2,
    "start_time": "2024-12-04T04:40:40.929Z"
   },
   {
    "duration": 68,
    "start_time": "2024-12-04T04:40:43.267Z"
   },
   {
    "duration": 50,
    "start_time": "2024-12-04T04:40:44.154Z"
   },
   {
    "duration": 48,
    "start_time": "2024-12-04T04:40:45.361Z"
   },
   {
    "duration": 157,
    "start_time": "2024-12-04T04:41:20.152Z"
   },
   {
    "duration": 112,
    "start_time": "2024-12-04T04:43:44.608Z"
   },
   {
    "duration": 8,
    "start_time": "2024-12-04T04:46:12.586Z"
   },
   {
    "duration": 5,
    "start_time": "2024-12-04T04:46:51.590Z"
   },
   {
    "duration": 6,
    "start_time": "2024-12-04T04:48:36.177Z"
   },
   {
    "duration": 173,
    "start_time": "2024-12-04T05:00:40.904Z"
   },
   {
    "duration": 5,
    "start_time": "2024-12-04T05:00:43.163Z"
   },
   {
    "duration": 153,
    "start_time": "2024-12-04T05:00:48.665Z"
   },
   {
    "duration": 4,
    "start_time": "2024-12-04T05:01:41.473Z"
   },
   {
    "duration": 3,
    "start_time": "2024-12-04T05:01:42.539Z"
   },
   {
    "duration": 3,
    "start_time": "2024-12-04T05:01:43.363Z"
   },
   {
    "duration": 3,
    "start_time": "2024-12-04T05:02:29.275Z"
   },
   {
    "duration": 3,
    "start_time": "2024-12-04T05:03:10.831Z"
   },
   {
    "duration": 2,
    "start_time": "2024-12-04T05:03:42.844Z"
   },
   {
    "duration": 5,
    "start_time": "2024-12-04T05:04:21.057Z"
   },
   {
    "duration": 5,
    "start_time": "2024-12-04T05:04:21.951Z"
   },
   {
    "duration": 113,
    "start_time": "2024-12-04T05:04:46.837Z"
   },
   {
    "duration": 4,
    "start_time": "2024-12-04T05:05:33.520Z"
   },
   {
    "duration": 805,
    "start_time": "2024-12-04T05:05:46.610Z"
   },
   {
    "duration": 364,
    "start_time": "2024-12-04T05:05:47.417Z"
   },
   {
    "duration": 11,
    "start_time": "2024-12-04T05:05:47.783Z"
   },
   {
    "duration": 82,
    "start_time": "2024-12-04T05:05:47.796Z"
   },
   {
    "duration": 8,
    "start_time": "2024-12-04T05:05:47.881Z"
   },
   {
    "duration": 3,
    "start_time": "2024-12-04T05:05:47.890Z"
   },
   {
    "duration": 162,
    "start_time": "2024-12-04T05:05:47.895Z"
   },
   {
    "duration": 16,
    "start_time": "2024-12-04T05:05:48.060Z"
   },
   {
    "duration": 229,
    "start_time": "2024-12-04T05:05:48.079Z"
   },
   {
    "duration": 4,
    "start_time": "2024-12-04T05:05:48.310Z"
   },
   {
    "duration": 175,
    "start_time": "2024-12-04T05:05:48.316Z"
   },
   {
    "duration": 4,
    "start_time": "2024-12-04T05:05:48.492Z"
   },
   {
    "duration": 3,
    "start_time": "2024-12-04T05:05:48.498Z"
   },
   {
    "duration": 3,
    "start_time": "2024-12-04T05:05:48.505Z"
   },
   {
    "duration": 82,
    "start_time": "2024-12-04T05:05:48.510Z"
   },
   {
    "duration": 2,
    "start_time": "2024-12-04T05:05:48.594Z"
   },
   {
    "duration": 3,
    "start_time": "2024-12-04T05:05:48.599Z"
   },
   {
    "duration": 6,
    "start_time": "2024-12-04T05:05:48.603Z"
   },
   {
    "duration": 4,
    "start_time": "2024-12-04T05:05:48.631Z"
   },
   {
    "duration": 0,
    "start_time": "2024-12-04T05:05:48.637Z"
   },
   {
    "duration": 0,
    "start_time": "2024-12-04T05:05:48.639Z"
   },
   {
    "duration": 5,
    "start_time": "2024-12-04T05:06:09.262Z"
   },
   {
    "duration": 6,
    "start_time": "2024-12-04T05:06:17.139Z"
   },
   {
    "duration": 3,
    "start_time": "2024-12-04T05:06:44.111Z"
   },
   {
    "duration": 5,
    "start_time": "2024-12-04T05:06:58.416Z"
   },
   {
    "duration": 3,
    "start_time": "2024-12-04T05:07:13.976Z"
   },
   {
    "duration": 5,
    "start_time": "2024-12-04T05:07:15.268Z"
   }
  ],
  "kernelspec": {
   "display_name": "Python 3 (ipykernel)",
   "language": "python",
   "name": "python3"
  },
  "language_info": {
   "codemirror_mode": {
    "name": "ipython",
    "version": 3
   },
   "file_extension": ".py",
   "mimetype": "text/x-python",
   "name": "python",
   "nbconvert_exporter": "python",
   "pygments_lexer": "ipython3",
   "version": "3.9.19"
  },
  "toc": {
   "base_numbering": 1,
   "nav_menu": {},
   "number_sections": true,
   "sideBar": true,
   "skip_h1_title": true,
   "title_cell": "Table of Contents",
   "title_sidebar": "Contents",
   "toc_cell": false,
   "toc_position": {},
   "toc_section_display": true,
   "toc_window_display": false
  }
 },
 "nbformat": 4,
 "nbformat_minor": 2
}
